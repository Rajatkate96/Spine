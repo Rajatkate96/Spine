{
 "cells": [
  {
   "cell_type": "code",
   "execution_count": 2,
   "id": "53f9de21",
   "metadata": {},
   "outputs": [],
   "source": [
    "import pandas as pd\n",
    "import numpy as np\n",
    "from sklearn.model_selection import train_test_split\n",
    "from sklearn.linear_model import LinearRegression\n",
    "from sklearn.metrics import mean_squared_error, mean_absolute_error, r2_score\n",
    "from sklearn.neighbors import KNeighborsRegressor\n",
    "from sklearn.tree import DecisionTreeRegressor"
   ]
  },
  {
   "cell_type": "code",
   "execution_count": 8,
   "id": "1fd0a73c",
   "metadata": {},
   "outputs": [],
   "source": [
    "df= pd.read_excel(r'C:\\Users\\ABC\\Desktop\\Python\\Data_Science\\spine_project/spine.xlsx')"
   ]
  },
  {
   "cell_type": "code",
   "execution_count": 9,
   "id": "88de7495",
   "metadata": {},
   "outputs": [
    {
     "data": {
      "text/html": [
       "<div>\n",
       "<style scoped>\n",
       "    .dataframe tbody tr th:only-of-type {\n",
       "        vertical-align: middle;\n",
       "    }\n",
       "\n",
       "    .dataframe tbody tr th {\n",
       "        vertical-align: top;\n",
       "    }\n",
       "\n",
       "    .dataframe thead th {\n",
       "        text-align: right;\n",
       "    }\n",
       "</style>\n",
       "<table border=\"1\" class=\"dataframe\">\n",
       "  <thead>\n",
       "    <tr style=\"text-align: right;\">\n",
       "      <th></th>\n",
       "      <th>PG_Count</th>\n",
       "      <th>GSM</th>\n",
       "      <th>Binding</th>\n",
       "      <th>Paper</th>\n",
       "      <th>Spine</th>\n",
       "    </tr>\n",
       "  </thead>\n",
       "  <tbody>\n",
       "    <tr>\n",
       "      <th>11990</th>\n",
       "      <td>1191</td>\n",
       "      <td>75</td>\n",
       "      <td>Hardback</td>\n",
       "      <td>crème</td>\n",
       "      <td>65.867375</td>\n",
       "    </tr>\n",
       "    <tr>\n",
       "      <th>11991</th>\n",
       "      <td>1192</td>\n",
       "      <td>75</td>\n",
       "      <td>Hardback</td>\n",
       "      <td>crème</td>\n",
       "      <td>65.921000</td>\n",
       "    </tr>\n",
       "    <tr>\n",
       "      <th>11992</th>\n",
       "      <td>1193</td>\n",
       "      <td>75</td>\n",
       "      <td>Hardback</td>\n",
       "      <td>crème</td>\n",
       "      <td>65.974625</td>\n",
       "    </tr>\n",
       "    <tr>\n",
       "      <th>11993</th>\n",
       "      <td>1194</td>\n",
       "      <td>75</td>\n",
       "      <td>Hardback</td>\n",
       "      <td>crème</td>\n",
       "      <td>66.028250</td>\n",
       "    </tr>\n",
       "    <tr>\n",
       "      <th>11994</th>\n",
       "      <td>1195</td>\n",
       "      <td>75</td>\n",
       "      <td>Hardback</td>\n",
       "      <td>crème</td>\n",
       "      <td>66.081875</td>\n",
       "    </tr>\n",
       "    <tr>\n",
       "      <th>11995</th>\n",
       "      <td>1196</td>\n",
       "      <td>75</td>\n",
       "      <td>Hardback</td>\n",
       "      <td>crème</td>\n",
       "      <td>66.135500</td>\n",
       "    </tr>\n",
       "    <tr>\n",
       "      <th>11996</th>\n",
       "      <td>1197</td>\n",
       "      <td>75</td>\n",
       "      <td>Hardback</td>\n",
       "      <td>crème</td>\n",
       "      <td>66.189125</td>\n",
       "    </tr>\n",
       "    <tr>\n",
       "      <th>11997</th>\n",
       "      <td>1198</td>\n",
       "      <td>75</td>\n",
       "      <td>Hardback</td>\n",
       "      <td>crème</td>\n",
       "      <td>66.242750</td>\n",
       "    </tr>\n",
       "    <tr>\n",
       "      <th>11998</th>\n",
       "      <td>1199</td>\n",
       "      <td>75</td>\n",
       "      <td>Hardback</td>\n",
       "      <td>crème</td>\n",
       "      <td>66.296375</td>\n",
       "    </tr>\n",
       "    <tr>\n",
       "      <th>11999</th>\n",
       "      <td>1200</td>\n",
       "      <td>75</td>\n",
       "      <td>Hardback</td>\n",
       "      <td>crème</td>\n",
       "      <td>66.350000</td>\n",
       "    </tr>\n",
       "  </tbody>\n",
       "</table>\n",
       "</div>"
      ],
      "text/plain": [
       "       PG_Count  GSM  Binding   Paper      Spine\n",
       "11990      1191   75  Hardback  crème  65.867375\n",
       "11991      1192   75  Hardback  crème  65.921000\n",
       "11992      1193   75  Hardback  crème  65.974625\n",
       "11993      1194   75  Hardback  crème  66.028250\n",
       "11994      1195   75  Hardback  crème  66.081875\n",
       "11995      1196   75  Hardback  crème  66.135500\n",
       "11996      1197   75  Hardback  crème  66.189125\n",
       "11997      1198   75  Hardback  crème  66.242750\n",
       "11998      1199   75  Hardback  crème  66.296375\n",
       "11999      1200   75  Hardback  crème  66.350000"
      ]
     },
     "execution_count": 9,
     "metadata": {},
     "output_type": "execute_result"
    }
   ],
   "source": [
    "df.tail(10)"
   ]
  },
  {
   "cell_type": "code",
   "execution_count": 10,
   "id": "55014164",
   "metadata": {},
   "outputs": [],
   "source": [
    "df1= df.to_csv(\"spine_data.csv\", index=False)"
   ]
  },
  {
   "cell_type": "code",
   "execution_count": 11,
   "id": "d67f8d96",
   "metadata": {},
   "outputs": [],
   "source": [
    "df= pd.read_csv(\"spine_data.csv\")"
   ]
  },
  {
   "cell_type": "code",
   "execution_count": 12,
   "id": "b29f63dc",
   "metadata": {},
   "outputs": [
    {
     "name": "stdout",
     "output_type": "stream",
     "text": [
      "<class 'pandas.core.frame.DataFrame'>\n",
      "RangeIndex: 12000 entries, 0 to 11999\n",
      "Data columns (total 5 columns):\n",
      " #   Column    Non-Null Count  Dtype  \n",
      "---  ------    --------------  -----  \n",
      " 0   PG_Count  12000 non-null  int64  \n",
      " 1   GSM       12000 non-null  int64  \n",
      " 2   Binding   12000 non-null  object \n",
      " 3   Paper     12000 non-null  object \n",
      " 4   Spine     12000 non-null  float64\n",
      "dtypes: float64(1), int64(2), object(2)\n",
      "memory usage: 468.9+ KB\n"
     ]
    }
   ],
   "source": [
    "df.info()"
   ]
  },
  {
   "cell_type": "code",
   "execution_count": 13,
   "id": "8e546842",
   "metadata": {},
   "outputs": [
    {
     "data": {
      "text/plain": [
       "Index(['PG_Count', 'GSM', 'Binding ', 'Paper', 'Spine'], dtype='object')"
      ]
     },
     "execution_count": 13,
     "metadata": {},
     "output_type": "execute_result"
    }
   ],
   "source": [
    "df.columns"
   ]
  },
  {
   "cell_type": "code",
   "execution_count": 14,
   "id": "2a9f7c38",
   "metadata": {},
   "outputs": [
    {
     "data": {
      "text/plain": [
       "paperback    6000\n",
       "Hardback     6000\n",
       "Name: Binding , dtype: int64"
      ]
     },
     "execution_count": 14,
     "metadata": {},
     "output_type": "execute_result"
    }
   ],
   "source": [
    "df[\"Binding \"].value_counts()"
   ]
  },
  {
   "cell_type": "code",
   "execution_count": 15,
   "id": "bda119c1",
   "metadata": {},
   "outputs": [],
   "source": [
    "df[\"Binding \"].replace({\"paperback\":0, \"Hardback\":1}, inplace=True)"
   ]
  },
  {
   "cell_type": "code",
   "execution_count": 16,
   "id": "48ba7ec0",
   "metadata": {},
   "outputs": [
    {
     "data": {
      "text/plain": [
       "0    6000\n",
       "1    6000\n",
       "Name: Binding , dtype: int64"
      ]
     },
     "execution_count": 16,
     "metadata": {},
     "output_type": "execute_result"
    }
   ],
   "source": [
    "df[\"Binding \"].value_counts()"
   ]
  },
  {
   "cell_type": "code",
   "execution_count": 19,
   "id": "74ff3b7e",
   "metadata": {},
   "outputs": [
    {
     "data": {
      "text/plain": [
       "creme          4800\n",
       "White          4800\n",
       "Coated_matt    2400\n",
       "Name: Paper, dtype: int64"
      ]
     },
     "execution_count": 19,
     "metadata": {},
     "output_type": "execute_result"
    }
   ],
   "source": [
    "df[\"Paper\"].value_counts()"
   ]
  },
  {
   "cell_type": "code",
   "execution_count": 18,
   "id": "e2ab09a6",
   "metadata": {},
   "outputs": [],
   "source": [
    "df[\"Paper\"].replace({\"crème\":\"creme\"}, inplace=True)"
   ]
  },
  {
   "cell_type": "code",
   "execution_count": 20,
   "id": "004238d4",
   "metadata": {},
   "outputs": [
    {
     "data": {
      "text/html": [
       "<div>\n",
       "<style scoped>\n",
       "    .dataframe tbody tr th:only-of-type {\n",
       "        vertical-align: middle;\n",
       "    }\n",
       "\n",
       "    .dataframe tbody tr th {\n",
       "        vertical-align: top;\n",
       "    }\n",
       "\n",
       "    .dataframe thead th {\n",
       "        text-align: right;\n",
       "    }\n",
       "</style>\n",
       "<table border=\"1\" class=\"dataframe\">\n",
       "  <thead>\n",
       "    <tr style=\"text-align: right;\">\n",
       "      <th></th>\n",
       "      <th>PG_Count</th>\n",
       "      <th>GSM</th>\n",
       "      <th>Binding</th>\n",
       "      <th>Spine</th>\n",
       "      <th>Paper_Coated_matt</th>\n",
       "      <th>Paper_White</th>\n",
       "      <th>Paper_creme</th>\n",
       "    </tr>\n",
       "  </thead>\n",
       "  <tbody>\n",
       "    <tr>\n",
       "      <th>0</th>\n",
       "      <td>1</td>\n",
       "      <td>55</td>\n",
       "      <td>0</td>\n",
       "      <td>0.655000</td>\n",
       "      <td>0</td>\n",
       "      <td>0</td>\n",
       "      <td>1</td>\n",
       "    </tr>\n",
       "    <tr>\n",
       "      <th>1</th>\n",
       "      <td>2</td>\n",
       "      <td>55</td>\n",
       "      <td>0</td>\n",
       "      <td>0.710000</td>\n",
       "      <td>0</td>\n",
       "      <td>0</td>\n",
       "      <td>1</td>\n",
       "    </tr>\n",
       "    <tr>\n",
       "      <th>2</th>\n",
       "      <td>3</td>\n",
       "      <td>55</td>\n",
       "      <td>0</td>\n",
       "      <td>0.765000</td>\n",
       "      <td>0</td>\n",
       "      <td>0</td>\n",
       "      <td>1</td>\n",
       "    </tr>\n",
       "    <tr>\n",
       "      <th>3</th>\n",
       "      <td>4</td>\n",
       "      <td>55</td>\n",
       "      <td>0</td>\n",
       "      <td>0.820000</td>\n",
       "      <td>0</td>\n",
       "      <td>0</td>\n",
       "      <td>1</td>\n",
       "    </tr>\n",
       "    <tr>\n",
       "      <th>4</th>\n",
       "      <td>5</td>\n",
       "      <td>55</td>\n",
       "      <td>0</td>\n",
       "      <td>0.875000</td>\n",
       "      <td>0</td>\n",
       "      <td>0</td>\n",
       "      <td>1</td>\n",
       "    </tr>\n",
       "    <tr>\n",
       "      <th>...</th>\n",
       "      <td>...</td>\n",
       "      <td>...</td>\n",
       "      <td>...</td>\n",
       "      <td>...</td>\n",
       "      <td>...</td>\n",
       "      <td>...</td>\n",
       "      <td>...</td>\n",
       "    </tr>\n",
       "    <tr>\n",
       "      <th>11995</th>\n",
       "      <td>1196</td>\n",
       "      <td>75</td>\n",
       "      <td>1</td>\n",
       "      <td>66.135500</td>\n",
       "      <td>0</td>\n",
       "      <td>0</td>\n",
       "      <td>1</td>\n",
       "    </tr>\n",
       "    <tr>\n",
       "      <th>11996</th>\n",
       "      <td>1197</td>\n",
       "      <td>75</td>\n",
       "      <td>1</td>\n",
       "      <td>66.189125</td>\n",
       "      <td>0</td>\n",
       "      <td>0</td>\n",
       "      <td>1</td>\n",
       "    </tr>\n",
       "    <tr>\n",
       "      <th>11997</th>\n",
       "      <td>1198</td>\n",
       "      <td>75</td>\n",
       "      <td>1</td>\n",
       "      <td>66.242750</td>\n",
       "      <td>0</td>\n",
       "      <td>0</td>\n",
       "      <td>1</td>\n",
       "    </tr>\n",
       "    <tr>\n",
       "      <th>11998</th>\n",
       "      <td>1199</td>\n",
       "      <td>75</td>\n",
       "      <td>1</td>\n",
       "      <td>66.296375</td>\n",
       "      <td>0</td>\n",
       "      <td>0</td>\n",
       "      <td>1</td>\n",
       "    </tr>\n",
       "    <tr>\n",
       "      <th>11999</th>\n",
       "      <td>1200</td>\n",
       "      <td>75</td>\n",
       "      <td>1</td>\n",
       "      <td>66.350000</td>\n",
       "      <td>0</td>\n",
       "      <td>0</td>\n",
       "      <td>1</td>\n",
       "    </tr>\n",
       "  </tbody>\n",
       "</table>\n",
       "<p>12000 rows × 7 columns</p>\n",
       "</div>"
      ],
      "text/plain": [
       "       PG_Count  GSM  Binding       Spine  Paper_Coated_matt  Paper_White  \\\n",
       "0             1   55         0   0.655000                  0            0   \n",
       "1             2   55         0   0.710000                  0            0   \n",
       "2             3   55         0   0.765000                  0            0   \n",
       "3             4   55         0   0.820000                  0            0   \n",
       "4             5   55         0   0.875000                  0            0   \n",
       "...         ...  ...       ...        ...                ...          ...   \n",
       "11995      1196   75         1  66.135500                  0            0   \n",
       "11996      1197   75         1  66.189125                  0            0   \n",
       "11997      1198   75         1  66.242750                  0            0   \n",
       "11998      1199   75         1  66.296375                  0            0   \n",
       "11999      1200   75         1  66.350000                  0            0   \n",
       "\n",
       "       Paper_creme  \n",
       "0                1  \n",
       "1                1  \n",
       "2                1  \n",
       "3                1  \n",
       "4                1  \n",
       "...            ...  \n",
       "11995            1  \n",
       "11996            1  \n",
       "11997            1  \n",
       "11998            1  \n",
       "11999            1  \n",
       "\n",
       "[12000 rows x 7 columns]"
      ]
     },
     "execution_count": 20,
     "metadata": {},
     "output_type": "execute_result"
    }
   ],
   "source": [
    "df = pd.get_dummies(df, columns=['Paper'])\n",
    "df"
   ]
  },
  {
   "cell_type": "code",
   "execution_count": 21,
   "id": "5cc30a0a",
   "metadata": {},
   "outputs": [
    {
     "data": {
      "text/html": [
       "<div>\n",
       "<style scoped>\n",
       "    .dataframe tbody tr th:only-of-type {\n",
       "        vertical-align: middle;\n",
       "    }\n",
       "\n",
       "    .dataframe tbody tr th {\n",
       "        vertical-align: top;\n",
       "    }\n",
       "\n",
       "    .dataframe thead th {\n",
       "        text-align: right;\n",
       "    }\n",
       "</style>\n",
       "<table border=\"1\" class=\"dataframe\">\n",
       "  <thead>\n",
       "    <tr style=\"text-align: right;\">\n",
       "      <th></th>\n",
       "      <th>PG_Count</th>\n",
       "      <th>GSM</th>\n",
       "      <th>Binding</th>\n",
       "      <th>Spine</th>\n",
       "      <th>Paper_Coated_matt</th>\n",
       "      <th>Paper_White</th>\n",
       "      <th>Paper_creme</th>\n",
       "    </tr>\n",
       "  </thead>\n",
       "  <tbody>\n",
       "    <tr>\n",
       "      <th>0</th>\n",
       "      <td>1</td>\n",
       "      <td>55</td>\n",
       "      <td>0</td>\n",
       "      <td>0.655</td>\n",
       "      <td>0</td>\n",
       "      <td>0</td>\n",
       "      <td>1</td>\n",
       "    </tr>\n",
       "    <tr>\n",
       "      <th>1</th>\n",
       "      <td>2</td>\n",
       "      <td>55</td>\n",
       "      <td>0</td>\n",
       "      <td>0.710</td>\n",
       "      <td>0</td>\n",
       "      <td>0</td>\n",
       "      <td>1</td>\n",
       "    </tr>\n",
       "    <tr>\n",
       "      <th>2</th>\n",
       "      <td>3</td>\n",
       "      <td>55</td>\n",
       "      <td>0</td>\n",
       "      <td>0.765</td>\n",
       "      <td>0</td>\n",
       "      <td>0</td>\n",
       "      <td>1</td>\n",
       "    </tr>\n",
       "    <tr>\n",
       "      <th>3</th>\n",
       "      <td>4</td>\n",
       "      <td>55</td>\n",
       "      <td>0</td>\n",
       "      <td>0.820</td>\n",
       "      <td>0</td>\n",
       "      <td>0</td>\n",
       "      <td>1</td>\n",
       "    </tr>\n",
       "    <tr>\n",
       "      <th>4</th>\n",
       "      <td>5</td>\n",
       "      <td>55</td>\n",
       "      <td>0</td>\n",
       "      <td>0.875</td>\n",
       "      <td>0</td>\n",
       "      <td>0</td>\n",
       "      <td>1</td>\n",
       "    </tr>\n",
       "  </tbody>\n",
       "</table>\n",
       "</div>"
      ],
      "text/plain": [
       "   PG_Count  GSM  Binding   Spine  Paper_Coated_matt  Paper_White  Paper_creme\n",
       "0         1   55         0  0.655                  0            0            1\n",
       "1         2   55         0  0.710                  0            0            1\n",
       "2         3   55         0  0.765                  0            0            1\n",
       "3         4   55         0  0.820                  0            0            1\n",
       "4         5   55         0  0.875                  0            0            1"
      ]
     },
     "execution_count": 21,
     "metadata": {},
     "output_type": "execute_result"
    }
   ],
   "source": [
    "df.head()"
   ]
  },
  {
   "cell_type": "code",
   "execution_count": 22,
   "id": "25cf2eb7",
   "metadata": {},
   "outputs": [
    {
     "data": {
      "text/plain": [
       "((12000,), (12000, 6))"
      ]
     },
     "execution_count": 22,
     "metadata": {},
     "output_type": "execute_result"
    }
   ],
   "source": [
    "x= df.drop('Spine', axis=1)\n",
    "y= df['Spine']\n",
    "y.shape, x.shape"
   ]
  },
  {
   "cell_type": "code",
   "execution_count": 23,
   "id": "740c5c89",
   "metadata": {},
   "outputs": [
    {
     "data": {
      "text/plain": [
       "((9600, 6), (9600,), (2400,))"
      ]
     },
     "execution_count": 23,
     "metadata": {},
     "output_type": "execute_result"
    }
   ],
   "source": [
    "x_train, x_test, y_train, y_test = train_test_split(x,y,test_size=0.2, random_state= 12)\n",
    "x_train.shape,y_train.shape,y_test.shape"
   ]
  },
  {
   "cell_type": "code",
   "execution_count": 24,
   "id": "85b2044e",
   "metadata": {},
   "outputs": [
    {
     "data": {
      "text/plain": [
       "LinearRegression()"
      ]
     },
     "execution_count": 24,
     "metadata": {},
     "output_type": "execute_result"
    }
   ],
   "source": [
    "model= LinearRegression()\n",
    "model.fit(x_train,y_train)"
   ]
  },
  {
   "cell_type": "markdown",
   "id": "230fd9c9",
   "metadata": {},
   "source": [
    "# model evealution"
   ]
  },
  {
   "cell_type": "code",
   "execution_count": 25,
   "id": "7c4014ff",
   "metadata": {},
   "outputs": [
    {
     "name": "stdout",
     "output_type": "stream",
     "text": [
      "mean squared error= 8.287052902044431\n",
      "mean absolute error= 2.226350137982666\n",
      "r2 score= 0.9739416434765485\n"
     ]
    },
    {
     "data": {
      "text/plain": [
       "(8.287052902044431, 2.226350137982666, 0.9739416434765485)"
      ]
     },
     "execution_count": 25,
     "metadata": {},
     "output_type": "execute_result"
    }
   ],
   "source": [
    "def model_eval(model, x, y):\n",
    "    y_pred = model.predict(x)\n",
    "    mse= mean_squared_error(y,y_pred)\n",
    "    print(f'mean squared error= {mse}')\n",
    "    mae= mean_absolute_error(y,y_pred)\n",
    "    print(f'mean absolute error= {mae}')\n",
    "    r2= r2_score(y,y_pred)\n",
    "    print(f'r2 score= {r2}')\n",
    "    \n",
    "    return mse, mae, r2\n",
    "model_eval(model, x_train,y_train)"
   ]
  },
  {
   "cell_type": "markdown",
   "id": "ccfda70c",
   "metadata": {},
   "source": [
    "# testing model evaluation"
   ]
  },
  {
   "cell_type": "code",
   "execution_count": 26,
   "id": "0601438f",
   "metadata": {},
   "outputs": [
    {
     "name": "stdout",
     "output_type": "stream",
     "text": [
      "mean squared error= 8.139946236656337\n",
      "mean absolute error= 2.2236975861055517\n",
      "r2 score= 0.9743788441281868\n"
     ]
    },
    {
     "data": {
      "text/plain": [
       "(8.139946236656337, 2.2236975861055517, 0.9743788441281868)"
      ]
     },
     "execution_count": 26,
     "metadata": {},
     "output_type": "execute_result"
    }
   ],
   "source": [
    "model_eval(model, x_test,y_test)"
   ]
  },
  {
   "cell_type": "code",
   "execution_count": 27,
   "id": "1d69bfa1",
   "metadata": {},
   "outputs": [
    {
     "data": {
      "text/plain": [
       "Index(['PG_Count', 'GSM', 'Binding ', 'Spine', 'Paper_Coated_matt',\n",
       "       'Paper_White', 'Paper_creme'],\n",
       "      dtype='object')"
      ]
     },
     "execution_count": 27,
     "metadata": {},
     "output_type": "execute_result"
    }
   ],
   "source": [
    "df.columns"
   ]
  },
  {
   "cell_type": "code",
   "execution_count": 28,
   "id": "4aef5fa6",
   "metadata": {},
   "outputs": [
    {
     "name": "stderr",
     "output_type": "stream",
     "text": [
      "C:\\Users\\ABC\\anaconda3\\lib\\site-packages\\sklearn\\base.py:450: UserWarning: X does not have valid feature names, but LinearRegression was fitted with feature names\n",
      "  warnings.warn(\n"
     ]
    },
    {
     "data": {
      "text/plain": [
       "array([4.96137156])"
      ]
     },
     "execution_count": 28,
     "metadata": {},
     "output_type": "execute_result"
    }
   ],
   "source": [
    "PG_Count= 120\n",
    "GSM = 75\n",
    "Binding = 0\n",
    "Paper_Coated_matt= 0\n",
    "Paper_White = 1\n",
    "Paper_crème = 0\n",
    "data = [PG_Count, GSM, Binding , Paper_Coated_matt,\n",
    "       Paper_White, Paper_crème]\n",
    "\n",
    "y_pred = model.predict([data])\n",
    "y_pred"
   ]
  },
  {
   "cell_type": "code",
   "execution_count": 29,
   "id": "41523465",
   "metadata": {},
   "outputs": [
    {
     "data": {
      "text/plain": [
       "KNeighborsRegressor()"
      ]
     },
     "execution_count": 29,
     "metadata": {},
     "output_type": "execute_result"
    }
   ],
   "source": [
    "model1 = KNeighborsRegressor()\n",
    "model1.fit(x_train,y_train)"
   ]
  },
  {
   "cell_type": "code",
   "execution_count": 30,
   "id": "aa78c3d1",
   "metadata": {},
   "outputs": [
    {
     "name": "stdout",
     "output_type": "stream",
     "text": [
      "Test model evaluation\n",
      "mean squared error= 0.5860572801049185\n",
      "mean absolute error= 0.7116938941666668\n",
      "r2 score= 0.9981553361058135\n",
      "##############################\n",
      "Train model evaluation\n",
      "mean squared error= 8.287052902044431\n",
      "mean absolute error= 2.226350137982666\n",
      "r2 score= 0.9739416434765485\n"
     ]
    },
    {
     "data": {
      "text/plain": [
       "(8.287052902044431, 2.226350137982666, 0.9739416434765485)"
      ]
     },
     "execution_count": 30,
     "metadata": {},
     "output_type": "execute_result"
    }
   ],
   "source": [
    "print (\"Test model evaluation\")\n",
    "model_eval(model1, x_test,y_test)\n",
    "print ('#' * 30)\n",
    "print (\"Train model evaluation\")\n",
    "model_eval(model, x_train,y_train)"
   ]
  },
  {
   "cell_type": "code",
   "execution_count": 31,
   "id": "0b3b3911",
   "metadata": {},
   "outputs": [
    {
     "name": "stderr",
     "output_type": "stream",
     "text": [
      "C:\\Users\\ABC\\anaconda3\\lib\\site-packages\\sklearn\\base.py:450: UserWarning: X does not have valid feature names, but KNeighborsRegressor was fitted with feature names\n",
      "  warnings.warn(\n"
     ]
    },
    {
     "data": {
      "text/plain": [
       "array([60.4275])"
      ]
     },
     "execution_count": 31,
     "metadata": {},
     "output_type": "execute_result"
    }
   ],
   "source": [
    "PG_Count= 1100\n",
    "GSM = 75\n",
    "Binding = 0\n",
    "Paper_Coated_matt= 0\n",
    "Paper_White = 0\n",
    "Paper_crème = 1\n",
    "data = [PG_Count, GSM, Binding , Paper_Coated_matt,\n",
    "       Paper_White, Paper_crème]\n",
    "\n",
    "y_pred = model1.predict([data])\n",
    "y_pred"
   ]
  },
  {
   "cell_type": "code",
   "execution_count": 32,
   "id": "83da9280",
   "metadata": {},
   "outputs": [
    {
     "data": {
      "text/plain": [
       "DecisionTreeRegressor()"
      ]
     },
     "execution_count": 32,
     "metadata": {},
     "output_type": "execute_result"
    }
   ],
   "source": [
    "model3= DecisionTreeRegressor()\n",
    "model3.fit(x_train,y_train)"
   ]
  },
  {
   "cell_type": "code",
   "execution_count": 33,
   "id": "7bf70077",
   "metadata": {},
   "outputs": [
    {
     "name": "stdout",
     "output_type": "stream",
     "text": [
      "Test model evaluation\n",
      "mean squared error= 0.0031945743802708386\n",
      "mean absolute error= 0.0537772291666667\n",
      "r2 score= 0.9999899448121939\n",
      "##############################\n",
      "Train model evaluation\n",
      "mean squared error= 0.0\n",
      "mean absolute error= 0.0\n",
      "r2 score= 1.0\n"
     ]
    },
    {
     "data": {
      "text/plain": [
       "(0.0, 0.0, 1.0)"
      ]
     },
     "execution_count": 33,
     "metadata": {},
     "output_type": "execute_result"
    }
   ],
   "source": [
    "print (\"Test model evaluation\")\n",
    "model_eval(model3, x_test,y_test)\n",
    "print ('#' * 30)\n",
    "print (\"Train model evaluation\")\n",
    "model_eval(model3, x_train,y_train)"
   ]
  },
  {
   "cell_type": "code",
   "execution_count": 34,
   "id": "18343a5f",
   "metadata": {},
   "outputs": [
    {
     "name": "stderr",
     "output_type": "stream",
     "text": [
      "C:\\Users\\ABC\\anaconda3\\lib\\site-packages\\sklearn\\base.py:450: UserWarning: X does not have valid feature names, but DecisionTreeRegressor was fitted with feature names\n",
      "  warnings.warn(\n"
     ]
    },
    {
     "data": {
      "text/plain": [
       "array([58.925])"
      ]
     },
     "execution_count": 34,
     "metadata": {},
     "output_type": "execute_result"
    }
   ],
   "source": [
    "PG_Count= 1100\n",
    "GSM = 75\n",
    "Binding = 1\n",
    "Paper_Coated_matt= 1\n",
    "Paper_White = 0\n",
    "Paper_crème = 0\n",
    "data = [PG_Count, GSM, Binding , Paper_Coated_matt,\n",
    "       Paper_White, Paper_crème]\n",
    "\n",
    "y_pred = model3.predict([data])\n",
    "y_pred"
   ]
  },
  {
   "cell_type": "code",
   "execution_count": 35,
   "id": "638cbb5d",
   "metadata": {},
   "outputs": [],
   "source": [
    "import pickle\n",
    "\n",
    "with open('model.pkl','wb') as file: \n",
    "    pickle.dump(model3,file)"
   ]
  },
  {
   "cell_type": "code",
   "execution_count": 36,
   "id": "c95b1822",
   "metadata": {},
   "outputs": [
    {
     "data": {
      "text/plain": [
       "['PG_Count',\n",
       " 'GSM',\n",
       " 'Binding ',\n",
       " 'Paper_Coated_matt',\n",
       " 'Paper_White',\n",
       " 'Paper_creme']"
      ]
     },
     "execution_count": 36,
     "metadata": {},
     "output_type": "execute_result"
    }
   ],
   "source": [
    "x.columns.tolist()"
   ]
  },
  {
   "cell_type": "code",
   "execution_count": 37,
   "id": "18c57277",
   "metadata": {},
   "outputs": [],
   "source": [
    "import json\n",
    "project_data = {\"column_names\":x.columns.tolist(),\n",
    "               \"Binding \":{'paperback': 0, 'Hardback': 1}\n",
    "               }\n",
    "\n",
    "with open('project_data.json','w') as file:\n",
    "    json.dump(project_data,file)"
   ]
  },
  {
   "cell_type": "code",
   "execution_count": 73,
   "id": "c34c1577",
   "metadata": {},
   "outputs": [
    {
     "data": {
      "text/plain": [
       "5"
      ]
     },
     "execution_count": 73,
     "metadata": {},
     "output_type": "execute_result"
    }
   ],
   "source": [
    "with open('project_data.json','r') as file:\n",
    "    project_data = json.load(file)\n",
    "\n",
    "PG_Count= 1100\n",
    "GSM = 75\n",
    "Binding = 'paperback'\n",
    "\n",
    "user_data = np.zeros(len(project_data['column_names']))\n",
    "user_data[0] = PG_Count\n",
    "user_data[1] = GSM\n",
    "user_data[2] = project_data['Binding '][Binding]\n",
    "   \n",
    "search_paper = 'Paper_'+'creme'\n",
    "index = np.where(np.array(project_data['column_names']) == search_paper)[0][0]\n",
    "user_data[index] = 1\n",
    "index"
   ]
  },
  {
   "cell_type": "code",
   "execution_count": 64,
   "id": "b26713d7",
   "metadata": {},
   "outputs": [
    {
     "data": {
      "text/plain": [
       "1"
      ]
     },
     "execution_count": 64,
     "metadata": {},
     "output_type": "execute_result"
    }
   ],
   "source": [
    "project_data['Binding ']['Hardback']"
   ]
  },
  {
   "cell_type": "code",
   "execution_count": null,
   "id": "53da9ae1",
   "metadata": {},
   "outputs": [],
   "source": []
  }
 ],
 "metadata": {
  "kernelspec": {
   "display_name": "Python 3 (ipykernel)",
   "language": "python",
   "name": "python3"
  },
  "language_info": {
   "codemirror_mode": {
    "name": "ipython",
    "version": 3
   },
   "file_extension": ".py",
   "mimetype": "text/x-python",
   "name": "python",
   "nbconvert_exporter": "python",
   "pygments_lexer": "ipython3",
   "version": "3.9.12"
  }
 },
 "nbformat": 4,
 "nbformat_minor": 5
}
